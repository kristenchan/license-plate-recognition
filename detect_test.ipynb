{
 "cells": [
  {
   "cell_type": "markdown",
   "metadata": {},
   "source": [
    "### 匯入套件\n",
    "#### install torch, cv2, numpy, torchvision, math, random, os, time, copy, thop"
   ]
  },
  {
   "cell_type": "code",
   "execution_count": 1,
   "metadata": {},
   "outputs": [],
   "source": [
    "from detect_plate import combine_crop\n",
    "from load_model import combine_model"
   ]
  },
  {
   "cell_type": "markdown",
   "metadata": {},
   "source": [
    "### load model\n",
    "#### CPU('cpu') 或幾顆 GPU('0,1,2,3')"
   ]
  },
  {
   "cell_type": "code",
   "execution_count": 2,
   "metadata": {},
   "outputs": [
    {
     "name": "stdout",
     "output_type": "stream",
     "text": [
      "Using CUDA device0 _CudaDeviceProperties(name='Tesla V100-SXM2-32GB', total_memory=32480MB)\n",
      "\n"
     ]
    },
    {
     "name": "stderr",
     "output_type": "stream",
     "text": [
      "/home/jack155861/.local/lib/python3.6/site-packages/torch/serialization.py:657: SourceChangeWarning: source code of class 'models.yolo.Model' has changed. you can retrieve the original source code by accessing the object's source attribute or set `torch.nn.Module.dump_patches = True` and use the patch tool to revert the changes.\n",
      "  warnings.warn(msg, SourceChangeWarning)\n"
     ]
    },
    {
     "name": "stdout",
     "output_type": "stream",
     "text": [
      "Fusing layers... Model Summary: 140 layers, 7.24652e+06 parameters, 6.61683e+06 gradients\n",
      "Using CUDA device0 _CudaDeviceProperties(name='Tesla V100-SXM2-32GB', total_memory=32480MB)\n",
      "\n",
      "Fusing layers... Model Summary: 140 layers, 7.33552e+06 parameters, 6.61683e+06 gradients\n"
     ]
    }
   ],
   "source": [
    "device, half, model_plate, model_char = combine_model(device_ = '0')"
   ]
  },
  {
   "cell_type": "markdown",
   "metadata": {},
   "source": [
    "### detect plate"
   ]
  },
  {
   "cell_type": "code",
   "execution_count": 12,
   "metadata": {
    "collapsed": true
   },
   "outputs": [
    {
     "name": "stdout",
     "output_type": "stream",
     "text": [
      "6059NL\n"
     ]
    }
   ],
   "source": [
    "path =  '../example/S__13451716.jpg' \n",
    "txt = combine_crop(path, device = device, half = half, model_1 = model_plate, model_2 = model_char)\n",
    "print(txt)"
   ]
  },
  {
   "cell_type": "code",
   "execution_count": 4,
   "metadata": {},
   "outputs": [
    {
     "name": "stdout",
     "output_type": "stream",
     "text": [
      "3068LN\n"
     ]
    }
   ],
   "source": [
    "path = 'example/car_large_size.jpg' \n",
    "txt = combine_crop(path, device = device, half = half, model_1 = model_plate, model_2 = model_char)\n",
    "print(txt)"
   ]
  },
  {
   "cell_type": "code",
   "execution_count": 5,
   "metadata": {},
   "outputs": [
    {
     "name": "stdout",
     "output_type": "stream",
     "text": [
      "3508VQ\n"
     ]
    }
   ],
   "source": [
    "path = 'example/cars_muti.jpg' \n",
    "txt = combine_crop(path, device = device, half = half, model_1 = model_plate, model_2 = model_char)\n",
    "print(txt)"
   ]
  },
  {
   "cell_type": "code",
   "execution_count": 6,
   "metadata": {},
   "outputs": [
    {
     "name": "stdout",
     "output_type": "stream",
     "text": [
      "查無車牌\n"
     ]
    }
   ],
   "source": [
    "path = 'example/dog.jpg' \n",
    "txt = combine_crop(path, device = device, half = half, model_1 = model_plate, model_2 = model_char)\n",
    "print(txt)"
   ]
  }
 ],
 "metadata": {
  "jupytext": {
   "cell_metadata_filter": "-all",
   "encoding": "# -*- coding: utf-8 -*-",
   "notebook_metadata_filter": "-all",
   "text_representation": {
    "extension": ".py",
    "format_name": "light"
   }
  },
  "kernelspec": {
   "display_name": "Python 3",
   "language": "python",
   "name": "python3"
  },
  "language_info": {
   "codemirror_mode": {
    "name": "ipython",
    "version": 3
   },
   "file_extension": ".py",
   "mimetype": "text/x-python",
   "name": "python",
   "nbconvert_exporter": "python",
   "pygments_lexer": "ipython3",
   "version": "3.6.9"
  }
 },
 "nbformat": 4,
 "nbformat_minor": 4
}
